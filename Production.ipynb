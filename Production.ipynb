{
 "cells": [
  {
   "cell_type": "code",
   "execution_count": 1,
   "metadata": {},
   "outputs": [
    {
     "name": "stderr",
     "output_type": "stream",
     "text": [
      "Using TensorFlow backend.\n"
     ]
    }
   ],
   "source": [
    "import datetime\n",
    "import pandas as pd\n",
    "import numpy as np\n",
    "from keras.preprocessing.sequence import pad_sequences\n",
    "import pyodbc\n",
    "import multiprocessing\n",
    "from keras.models import load_model\n",
    "from joblib import Parallel, delayed\n",
    "import xml.etree.ElementTree as xml\n",
    "def all_features(data):\n",
    "    data=data.groupby(['DiscountCardId'])['GoodsGroup1Id'].agg(lambda x: list(x))\n",
    "    data=data.reset_index(drop=False) \n",
    "    data.rename(columns={'GoodsGroup1Id':'goods'},inplace=True)\n",
    "    data['goods']=data['goods'].apply(lambda x:np.squeeze(pad_sequences([x],maxlen=400,dtype='int32')))\n",
    "    return data\n",
    "def preprocessing(data):\n",
    "#    goods=pd.read_csv(r'D:\\Projects\\Goods_prediction\\real_data\\goods2id.csv',sep=';',names=['GoodsGroup2Id','goodsname'])\n",
    "#    goods['GoodsGroup2Id']=goods['GoodsGroup2Id'].astype(int)\n",
    "#    data=data.merge(goods.reset_index(drop=False),how='left',on='GoodsGroup2Id')\n",
    "#    data=data.drop(['GoodsGroup2Id','goodsname'],axis=1)\n",
    "#    data=data.rename(columns={'index':'GoodsGroup2Id'})\n",
    "#    data['GoodsGroup2Id']=data['GoodsGroup2Id'].astype(np.int32)\n",
    "    data=all_features(data)\n",
    "#    model.predict(np.asarray([x for x in data['goods']],dtype=np.int16))\n",
    "    return data\n",
    "def model_prediction(data):\n",
    "    pr=model.predict(np.asarray([x for x in data],dtype=np.int16),batch_size=4000)\n",
    "    return pr\n",
    "np.set_printoptions(suppress=True)\n",
    "def create_xml(Discount,pr):\n",
    "    root=xml.Element(\"DiscountCardId\")\n",
    "    root.text=str(Discount)\n",
    "    for goodsid,probability in zip(goods['GoodsGroup2Id'].values,pr):\n",
    "        temp=xml.SubElement(root,\"GoodsGroup2Id\")\n",
    " #       temp.text=str(goodsid)\n",
    "        temp3=xml.SubElement(temp,\"Value\")\n",
    "        temp3.text=str(goodsid)\n",
    "        temp2=xml.SubElement(temp,\"Probability\")\n",
    "        temp2.text=str(round(float(probability),4))\n",
    "        \n",
    "        \n",
    "    tree=xml.ElementTree(root)\n",
    "    return tree\n",
    "def weeksdate(date):\n",
    "    for i,(a,b) in enumerate(zip(wk['DateWeekBegin'].values,wk['DateWeekEnd'].values)):\n",
    "        if a<=date and date<=b:\n",
    "            return wk['WeekNumber'][i],wk['Years'][i]\n",
    "def weeksdate(date):\n",
    "    for i in range(len(wk)):\n",
    "        if wk['DateWeekBegin'][i]<=date and date<=wk['DateWeekEnd'][i]:\n",
    "            return wk['DateWeekBegin'][i],wk['DateWeekEnd'][i],wk['WeekNumber'][i],wk['Years'][i]"
   ]
  },
  {
   "cell_type": "code",
   "execution_count": 2,
   "metadata": {},
   "outputs": [
    {
     "name": "stderr",
     "output_type": "stream",
     "text": [
      "WARNING: Logging before flag parsing goes to stderr.\n",
      "W1008 20:26:28.339768 11896 deprecation_wrapper.py:119] From C:\\Users\\ToschevikovG.EUROOPT\\AppData\\Local\\Continuum\\anaconda3\\lib\\site-packages\\keras\\backend\\tensorflow_backend.py:541: The name tf.placeholder is deprecated. Please use tf.compat.v1.placeholder instead.\n",
      "\n",
      "W1008 20:26:28.352735 11896 deprecation_wrapper.py:119] From C:\\Users\\ToschevikovG.EUROOPT\\AppData\\Local\\Continuum\\anaconda3\\lib\\site-packages\\keras\\backend\\tensorflow_backend.py:4432: The name tf.random_uniform is deprecated. Please use tf.random.uniform instead.\n",
      "\n",
      "W1008 20:26:28.408612 11896 deprecation_wrapper.py:119] From C:\\Users\\ToschevikovG.EUROOPT\\AppData\\Local\\Continuum\\anaconda3\\lib\\site-packages\\keras\\backend\\tensorflow_backend.py:190: The name tf.get_default_session is deprecated. Please use tf.compat.v1.get_default_session instead.\n",
      "\n",
      "W1008 20:26:28.409610 11896 deprecation_wrapper.py:119] From C:\\Users\\ToschevikovG.EUROOPT\\AppData\\Local\\Continuum\\anaconda3\\lib\\site-packages\\keras\\backend\\tensorflow_backend.py:197: The name tf.ConfigProto is deprecated. Please use tf.compat.v1.ConfigProto instead.\n",
      "\n",
      "W1008 20:26:28.409610 11896 deprecation_wrapper.py:119] From C:\\Users\\ToschevikovG.EUROOPT\\AppData\\Local\\Continuum\\anaconda3\\lib\\site-packages\\keras\\backend\\tensorflow_backend.py:203: The name tf.Session is deprecated. Please use tf.compat.v1.Session instead.\n",
      "\n",
      "W1008 20:26:28.536273 11896 deprecation_wrapper.py:119] From C:\\Users\\ToschevikovG.EUROOPT\\AppData\\Local\\Continuum\\anaconda3\\lib\\site-packages\\keras\\optimizers.py:793: The name tf.train.Optimizer is deprecated. Please use tf.compat.v1.train.Optimizer instead.\n",
      "\n",
      "W1008 20:26:28.541260 11896 deprecation.py:323] From C:\\Users\\ToschevikovG.EUROOPT\\AppData\\Local\\Continuum\\anaconda3\\lib\\site-packages\\tensorflow\\python\\ops\\nn_impl.py:180: add_dispatch_support.<locals>.wrapper (from tensorflow.python.ops.array_ops) is deprecated and will be removed in a future version.\n",
      "Instructions for updating:\n",
      "Use tf.where in 2.0, which has the same broadcast rule as np.where\n"
     ]
    },
    {
     "name": "stdout",
     "output_type": "stream",
     "text": [
      "one week is ready\n",
      "Wall time: 1h 43min 3s\n"
     ]
    },
    {
     "data": {
      "text/plain": [
       "222133"
      ]
     },
     "execution_count": 2,
     "metadata": {},
     "output_type": "execute_result"
    }
   ],
   "source": [
    "%%time\n",
    "model=load_model(r'D:\\Projects\\Goods_prediction\\real_data\\model_rnn_mDense_2l.hdf5')\n",
    "database_data=\"DRIVER={SQL Server}; SERVER=; DATABASE=; Trusted_Connection=yes;\"\n",
    "conn=pyodbc.connect(database_data)\n",
    "\n",
    "from sqlalchemy import create_engine\n",
    "import urllib\n",
    "quoted = urllib.parse.quote_plus(\"DRIVER={SQL Server}; SERVER=; DATABASE=Discount; Trusted_Connection=yes;\")\n",
    "engine = create_engine('mssql+pyodbc:///?odbc_connect={}'.format(quoted))\n",
    "\n",
    "base_date=pd.Timestamp(2018,9,3)\n",
    "goods=pd.read_csv(r'D:\\Projects\\Goods_prediction\\real_data\\goods2id.csv',sep=';',names=['GoodsGroup2Id','goodsname'])\n",
    "goods['GoodsGroup2Id']=goods['GoodsGroup2Id'].astype(int)\n",
    "wk=pd.read_csv(r'D:\\Projects\\Goods_prediction\\real_data\\Weeks.csv',sep=';')\n",
    "wk['DateWeekBegin']=pd.to_datetime(wk['DateWeekBegin'],format='%d.%m.%Y')\n",
    "wk['DateWeekEnd']=pd.to_datetime(wk['DateWeekEnd'],format='%d.%m.%Y')\n",
    "inputs=[51,52,53,54,55]\n",
    "def result(i):\n",
    "    data_period=base_date+pd.DateOffset(weeks=i)\n",
    "    start_data=data_period-pd.DateOffset(months=3)\n",
    "    label_period=base_date+pd.DateOffset(weeks=i+1)\n",
    "    sql=f\"\"\"\n",
    "***\n",
    "    \"\"\"\n",
    "    data=pd.read_sql(sql,conn)\n",
    "    data=preprocessing(data)\n",
    "    pr=model_prediction(data['goods'].values)\n",
    "    weekstart,weekend,weekyear,year=weeksdate(data_period)\n",
    "    itog=[]\n",
    "    for i,discountid in enumerate(data['DiscountCardId']):\n",
    "        itog.append([discountid,xml.tostring(create_xml(data['DiscountCardId'][i],pr[i]).getroot())])\n",
    "#        if i%10000==0:\n",
    "#            print(\"10000 completed\")\n",
    "    result=pd.DataFrame(itog,columns=['DiscountCardId','PredictionNN'])\n",
    "    result['TimeStart']=weekstart\n",
    "    result['TimeEnd']=weekend\n",
    "    result['WeekNumber']=weekyear\n",
    "    result['WeekYear']=year\n",
    "    result['PredictionNN']=result['PredictionNN'].astype(str)\n",
    "    result['PredictionNN']=result['PredictionNN'].str.replace(\"b\\'\",\"\").str.replace(\"\\'\",\"\")\n",
    "    result.to_sql(index=False,name='PredictionNN',schema='Prediction',con=engine,if_exists='append')\n",
    "    print('one week is ready')\n",
    "    return len(result)\n",
    "# for i in inputs:\n",
    "#     result(i)\n",
    "result(57)"
   ]
  },
  {
   "cell_type": "code",
   "execution_count": 4,
   "metadata": {},
   "outputs": [
    {
     "name": "stderr",
     "output_type": "stream",
     "text": [
      "WARNING: Logging before flag parsing goes to stderr.\n",
      "W0930 16:10:58.233216 17760 deprecation_wrapper.py:119] From C:\\Users\\ToschevikovG.EUROOPT\\AppData\\Local\\Continuum\\anaconda3\\lib\\site-packages\\keras\\backend\\tensorflow_backend.py:541: The name tf.placeholder is deprecated. Please use tf.compat.v1.placeholder instead.\n",
      "\n",
      "W0930 16:10:58.256188 17760 deprecation_wrapper.py:119] From C:\\Users\\ToschevikovG.EUROOPT\\AppData\\Local\\Continuum\\anaconda3\\lib\\site-packages\\keras\\backend\\tensorflow_backend.py:4432: The name tf.random_uniform is deprecated. Please use tf.random.uniform instead.\n",
      "\n",
      "W0930 16:10:59.236805 17760 deprecation_wrapper.py:119] From C:\\Users\\ToschevikovG.EUROOPT\\AppData\\Local\\Continuum\\anaconda3\\lib\\site-packages\\keras\\backend\\tensorflow_backend.py:190: The name tf.get_default_session is deprecated. Please use tf.compat.v1.get_default_session instead.\n",
      "\n",
      "W0930 16:10:59.236805 17760 deprecation_wrapper.py:119] From C:\\Users\\ToschevikovG.EUROOPT\\AppData\\Local\\Continuum\\anaconda3\\lib\\site-packages\\keras\\backend\\tensorflow_backend.py:197: The name tf.ConfigProto is deprecated. Please use tf.compat.v1.ConfigProto instead.\n",
      "\n",
      "W0930 16:10:59.237802 17760 deprecation_wrapper.py:119] From C:\\Users\\ToschevikovG.EUROOPT\\AppData\\Local\\Continuum\\anaconda3\\lib\\site-packages\\keras\\backend\\tensorflow_backend.py:203: The name tf.Session is deprecated. Please use tf.compat.v1.Session instead.\n",
      "\n",
      "W0930 16:10:59.364464 17760 deprecation_wrapper.py:119] From C:\\Users\\ToschevikovG.EUROOPT\\AppData\\Local\\Continuum\\anaconda3\\lib\\site-packages\\keras\\optimizers.py:793: The name tf.train.Optimizer is deprecated. Please use tf.compat.v1.train.Optimizer instead.\n",
      "\n",
      "W0930 16:10:59.369451 17760 deprecation.py:323] From C:\\Users\\ToschevikovG.EUROOPT\\AppData\\Local\\Continuum\\anaconda3\\lib\\site-packages\\tensorflow\\python\\ops\\nn_impl.py:180: add_dispatch_support.<locals>.wrapper (from tensorflow.python.ops.array_ops) is deprecated and will be removed in a future version.\n",
      "Instructions for updating:\n",
      "Use tf.where in 2.0, which has the same broadcast rule as np.where\n"
     ]
    },
    {
     "name": "stdout",
     "output_type": "stream",
     "text": [
      "Wall time: 29min 46s\n"
     ]
    }
   ],
   "source": []
  },
  {
   "cell_type": "code",
   "execution_count": 3,
   "metadata": {},
   "outputs": [
    {
     "name": "stdout",
     "output_type": "stream",
     "text": [
      "10000 completed\n",
      "10000 completed\n",
      "10000 completed\n",
      "10000 completed\n",
      "10000 completed\n",
      "10000 completed\n",
      "10000 completed\n",
      "10000 completed\n",
      "10000 completed\n",
      "10000 completed\n",
      "10000 completed\n",
      "10000 completed\n",
      "10000 completed\n",
      "10000 completed\n",
      "10000 completed\n",
      "10000 completed\n",
      "10000 completed\n",
      "10000 completed\n",
      "10000 completed\n",
      "10000 completed\n",
      "10000 completed\n"
     ]
    },
    {
     "ename": "AssertionError",
     "evalue": "1 columns passed, passed data had 2 columns",
     "output_type": "error",
     "traceback": [
      "\u001b[1;31m---------------------------------------------------------------------------\u001b[0m",
      "\u001b[1;31mAssertionError\u001b[0m                            Traceback (most recent call last)",
      "\u001b[1;32m<timed exec>\u001b[0m in \u001b[0;36m<module>\u001b[1;34m\u001b[0m\n",
      "\u001b[1;32m~\\AppData\\Local\\Continuum\\anaconda3\\lib\\site-packages\\pandas\\core\\frame.py\u001b[0m in \u001b[0;36m__init__\u001b[1;34m(self, data, index, columns, dtype, copy)\u001b[0m\n\u001b[0;32m    433\u001b[0m                     \u001b[1;32mif\u001b[0m \u001b[0mis_named_tuple\u001b[0m\u001b[1;33m(\u001b[0m\u001b[0mdata\u001b[0m\u001b[1;33m[\u001b[0m\u001b[1;36m0\u001b[0m\u001b[1;33m]\u001b[0m\u001b[1;33m)\u001b[0m \u001b[1;32mand\u001b[0m \u001b[0mcolumns\u001b[0m \u001b[1;32mis\u001b[0m \u001b[1;32mNone\u001b[0m\u001b[1;33m:\u001b[0m\u001b[1;33m\u001b[0m\u001b[1;33m\u001b[0m\u001b[0m\n\u001b[0;32m    434\u001b[0m                         \u001b[0mcolumns\u001b[0m \u001b[1;33m=\u001b[0m \u001b[0mdata\u001b[0m\u001b[1;33m[\u001b[0m\u001b[1;36m0\u001b[0m\u001b[1;33m]\u001b[0m\u001b[1;33m.\u001b[0m\u001b[0m_fields\u001b[0m\u001b[1;33m\u001b[0m\u001b[1;33m\u001b[0m\u001b[0m\n\u001b[1;32m--> 435\u001b[1;33m                     \u001b[0marrays\u001b[0m\u001b[1;33m,\u001b[0m \u001b[0mcolumns\u001b[0m \u001b[1;33m=\u001b[0m \u001b[0mto_arrays\u001b[0m\u001b[1;33m(\u001b[0m\u001b[0mdata\u001b[0m\u001b[1;33m,\u001b[0m \u001b[0mcolumns\u001b[0m\u001b[1;33m,\u001b[0m \u001b[0mdtype\u001b[0m\u001b[1;33m=\u001b[0m\u001b[0mdtype\u001b[0m\u001b[1;33m)\u001b[0m\u001b[1;33m\u001b[0m\u001b[1;33m\u001b[0m\u001b[0m\n\u001b[0m\u001b[0;32m    436\u001b[0m                     \u001b[0mcolumns\u001b[0m \u001b[1;33m=\u001b[0m \u001b[0mensure_index\u001b[0m\u001b[1;33m(\u001b[0m\u001b[0mcolumns\u001b[0m\u001b[1;33m)\u001b[0m\u001b[1;33m\u001b[0m\u001b[1;33m\u001b[0m\u001b[0m\n\u001b[0;32m    437\u001b[0m \u001b[1;33m\u001b[0m\u001b[0m\n",
      "\u001b[1;32m~\\AppData\\Local\\Continuum\\anaconda3\\lib\\site-packages\\pandas\\core\\internals\\construction.py\u001b[0m in \u001b[0;36mto_arrays\u001b[1;34m(data, columns, coerce_float, dtype)\u001b[0m\n\u001b[0;32m    402\u001b[0m     \u001b[1;32mif\u001b[0m \u001b[0misinstance\u001b[0m\u001b[1;33m(\u001b[0m\u001b[0mdata\u001b[0m\u001b[1;33m[\u001b[0m\u001b[1;36m0\u001b[0m\u001b[1;33m]\u001b[0m\u001b[1;33m,\u001b[0m \u001b[1;33m(\u001b[0m\u001b[0mlist\u001b[0m\u001b[1;33m,\u001b[0m \u001b[0mtuple\u001b[0m\u001b[1;33m)\u001b[0m\u001b[1;33m)\u001b[0m\u001b[1;33m:\u001b[0m\u001b[1;33m\u001b[0m\u001b[1;33m\u001b[0m\u001b[0m\n\u001b[0;32m    403\u001b[0m         return _list_to_arrays(data, columns, coerce_float=coerce_float,\n\u001b[1;32m--> 404\u001b[1;33m                                dtype=dtype)\n\u001b[0m\u001b[0;32m    405\u001b[0m     \u001b[1;32melif\u001b[0m \u001b[0misinstance\u001b[0m\u001b[1;33m(\u001b[0m\u001b[0mdata\u001b[0m\u001b[1;33m[\u001b[0m\u001b[1;36m0\u001b[0m\u001b[1;33m]\u001b[0m\u001b[1;33m,\u001b[0m \u001b[0mcompat\u001b[0m\u001b[1;33m.\u001b[0m\u001b[0mMapping\u001b[0m\u001b[1;33m)\u001b[0m\u001b[1;33m:\u001b[0m\u001b[1;33m\u001b[0m\u001b[1;33m\u001b[0m\u001b[0m\n\u001b[0;32m    406\u001b[0m         return _list_of_dict_to_arrays(data, columns,\n",
      "\u001b[1;32m~\\AppData\\Local\\Continuum\\anaconda3\\lib\\site-packages\\pandas\\core\\internals\\construction.py\u001b[0m in \u001b[0;36m_list_to_arrays\u001b[1;34m(data, columns, coerce_float, dtype)\u001b[0m\n\u001b[0;32m    434\u001b[0m         \u001b[0mcontent\u001b[0m \u001b[1;33m=\u001b[0m \u001b[0mlist\u001b[0m\u001b[1;33m(\u001b[0m\u001b[0mlib\u001b[0m\u001b[1;33m.\u001b[0m\u001b[0mto_object_array\u001b[0m\u001b[1;33m(\u001b[0m\u001b[0mdata\u001b[0m\u001b[1;33m)\u001b[0m\u001b[1;33m.\u001b[0m\u001b[0mT\u001b[0m\u001b[1;33m)\u001b[0m\u001b[1;33m\u001b[0m\u001b[1;33m\u001b[0m\u001b[0m\n\u001b[0;32m    435\u001b[0m     return _convert_object_array(content, columns, dtype=dtype,\n\u001b[1;32m--> 436\u001b[1;33m                                  coerce_float=coerce_float)\n\u001b[0m\u001b[0;32m    437\u001b[0m \u001b[1;33m\u001b[0m\u001b[0m\n\u001b[0;32m    438\u001b[0m \u001b[1;33m\u001b[0m\u001b[0m\n",
      "\u001b[1;32m~\\AppData\\Local\\Continuum\\anaconda3\\lib\\site-packages\\pandas\\core\\internals\\construction.py\u001b[0m in \u001b[0;36m_convert_object_array\u001b[1;34m(content, columns, coerce_float, dtype)\u001b[0m\n\u001b[0;32m    490\u001b[0m             raise AssertionError('{col:d} columns passed, passed data had '\n\u001b[0;32m    491\u001b[0m                                  '{con} columns'.format(col=len(columns),\n\u001b[1;32m--> 492\u001b[1;33m                                                         con=len(content)))\n\u001b[0m\u001b[0;32m    493\u001b[0m \u001b[1;33m\u001b[0m\u001b[0m\n\u001b[0;32m    494\u001b[0m     \u001b[1;31m# provide soft conversion of object dtypes\u001b[0m\u001b[1;33m\u001b[0m\u001b[1;33m\u001b[0m\u001b[1;33m\u001b[0m\u001b[0m\n",
      "\u001b[1;31mAssertionError\u001b[0m: 1 columns passed, passed data had 2 columns"
     ]
    }
   ],
   "source": []
  },
  {
   "cell_type": "code",
   "execution_count": 3,
   "metadata": {},
   "outputs": [],
   "source": []
  },
  {
   "cell_type": "code",
   "execution_count": 5,
   "metadata": {},
   "outputs": [
    {
     "data": {
      "text/plain": [
       "(222133, 788)"
      ]
     },
     "execution_count": 5,
     "metadata": {},
     "output_type": "execute_result"
    }
   ],
   "source": []
  },
  {
   "cell_type": "code",
   "execution_count": 19,
   "metadata": {},
   "outputs": [],
   "source": []
  },
  {
   "cell_type": "code",
   "execution_count": 20,
   "metadata": {},
   "outputs": [
    {
     "name": "stdout",
     "output_type": "stream",
     "text": [
      "b'<!DOCTYPE html PUBLIC \"-//W3C//DTD XHTML 1.0 Strict//EN\" \"http://www.w3.org/TR/xhtml1/DTD/xhtml1-strict.dtd\">\\r\\n\\r\\n<html>\\r\\n\\r\\n\\r\\n<head>\\r\\n<meta http-equiv=\"Content-Type\" content=\"text/html; charset=UTF-8\"/>\\r\\n<meta http-equiv=\"X-UA-Compatible\" content=\"IE=EmulateIE7\" />\\r\\n<script language=\"javascript\" src=\"/var.js\" ></script>\\r\\n<script>loadJS(\"/common.js\");</script>\\r\\n\\r\\n<script>InitLoad();</script>\\r\\n<script>\\r\\n\\r\\n\\tif( g_oemname==\\'etisalat\\' && g_firstlogin==1){\\t\\t\\r\\n\\t\\t\\r\\n\\t\\talert(GL(\"err_etisalat_msg\"));\\r\\n\\t\\t location.href=\"maintenance.htm\";\\r\\n\\t}\\t \\r\\n\\r\\n\\t\\t \\r\\n\\tloadJS(\"/D-Link.js\");\\r\\n\\tloadJS(\"/index.js\");\\r\\n\\tloadJS(\"/ptzctrl.js\");\\r\\n\\tloadJS(\"/ptz_dlink.js\");\\r\\n</script>\\r\\n\\r\\n<script>\\r\\n//<meta http-equiv=\"X-UA-Compatible\" content=\"IE=EmulateIE7\" />\\r\\n//<!DOCTYPE html PUBLIC \"-//W3C//DTD XHTML 1.0 Strict//EN\"\\r\\n //  \"http://www.w3.org/TR/xhtml1/DTD/xhtml1-strict.dtd\">\\r\\nif(g_isSupportEPTZ == 1)\\r\\n{\\r\\n  loadJS(\"/uvumi/mootools-for-crop.js\");\\r\\n  loadJS(\"/uvumi/UvumiCrop.js\");\\r\\n};\\r\\n\\r\\nmpMode=UpdateGSize(mpMode);\\r\\n\\r\\n//--start 2011.3.8 added for aspect ratio\\r\\nUpdateGlobalViewHeight();\\r\\n//--end 2011.3.8\\r\\n\\r\\nWriteDLinkHtmlHead(\"D-LINK CORPORATION| INTERNET CAMERA| LIVE VIDEO\",null,null,\"CallOnUnload\",\"CallOnResize\",null,0);\\r\\n</script>\\r\\n\\r\\n\\r\\n<script>\\r\\nDW(\\'<table bordercolordark=\"#FFFFFF\" width=\"950\" align=\"center\" bgcolor=\"#ffffff\" border=\"1\" cellpadding=\"2\" cellspacing=\"0\" ><tr>\\');\\r\\nDW(\\'<td id=\"sidenav_container\" valign=\"top\" width=\"125\">\\');\\r\\nWriteLeftSideTable();\\r\\nDW(\\'</td><td id=\"maincontent_container\" valign=\"top\">\\');\\r\\nWriteLiveVideoTable();\\r\\nDW(\\'</td></tr></table>\\');\\r\\nWriteDLinkBottom(0);\\r\\n//alert(\"1\");\\r\\n//if(g_isSupportEPTZ == 1)\\r\\n//  ALC(1200);\\r\\n//else\\t\\r\\n</script>\\r\\n<script>\\r\\n//2010.12.21 modified\\r\\n//*****object tag must be alone between script tag.*****\\r\\nif(browser_IE)\\r\\n  DW(\\'<OBJECT CLASSID=\"CLSID:\\'+AxUuid+\\'\" CODEBASE=\"/VDControl.CAB?\\'+AxVer+\\'#version=\\'+AxVer+\\'\" width=\"0\" height=\"0\" ></OBJECT>\\');\\r\\nelse\\r\\n{\\r\\n  if(mpMode == 1)\\r\\n    var RTSPName = g_RTSPName1;\\r\\n  else if(mpMode == 2)\\r\\n    var RTSPName = g_RTSPName2;\\r\\n  else if(mpMode == 3)\\r\\n    var RTSPName = g_RTSPName3;\\r\\n \\r\\n  var o=\\'\\';\\r\\n  \\r\\n\\tif(g_isIPv6)\\r\\n\\t//because ipv6 not support rtsp.\\r\\n\\t\\tvar host = g_netip;\\r\\n\\telse\\r\\n\\t\\tvar host = g_host;\\r\\n\\r\\n  o+=\\'<object id=\"qtrtsp_object\" width=\"0\" height=\"0\" codebase=\"http://www.apple.com/qtactivex/qtplugin.cab\" \\';\\r\\n\\t\\to+=\\'classid=\"clsid:02BF25D5-8C17-4B23-BC80-D3488ABDDC6B\" type=\"video/quicktime\">\\';\\r\\n  o+=\\'<param name=\"src\" value=\"http://\\'+host+\":\"+g_Port+\\'/qt.mov\" />\\';\\r\\n  o+=\\'<param name=\"autoplay\" value=\"true\" />\\';\\r\\n  o+=\\'<param name=\"controller\" value=\"false\" />\\';\\r\\n  o+=\\'<param name=\"qtsrc\" value=\"rtsp://\\'+host+\\':\\'+g_RTSPPort+\\'/\\'+RTSPName+\\'\"/>\\';\\r\\n  o+=\\'</object>\\';\\r\\n  //alert(o);\\r\\n  DW(o);\\r\\n}\\r\\n  ALC(1000);\\r\\n</script>\\r\\n</html>\\r\\n'\n"
     ]
    }
   ],
   "source": []
  },
  {
   "cell_type": "code",
   "execution_count": null,
   "metadata": {},
   "outputs": [],
   "source": []
  },
  {
   "cell_type": "code",
   "execution_count": null,
   "metadata": {},
   "outputs": [],
   "source": []
  },
  {
   "cell_type": "code",
   "execution_count": null,
   "metadata": {},
   "outputs": [],
   "source": []
  }
 ],
 "metadata": {
  "kernelspec": {
   "display_name": "Python 3",
   "language": "python",
   "name": "python3"
  },
  "language_info": {
   "codemirror_mode": {
    "name": "ipython",
    "version": 3
   },
   "file_extension": ".py",
   "mimetype": "text/x-python",
   "name": "python",
   "nbconvert_exporter": "python",
   "pygments_lexer": "ipython3",
   "version": "3.7.3"
  }
 },
 "nbformat": 4,
 "nbformat_minor": 2
}
